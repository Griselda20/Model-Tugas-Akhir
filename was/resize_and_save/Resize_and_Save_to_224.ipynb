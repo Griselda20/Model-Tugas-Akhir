{
  "nbformat": 4,
  "nbformat_minor": 0,
  "metadata": {
    "colab": {
      "provenance": [],
      "gpuType": "T4"
    },
    "kernelspec": {
      "name": "python3",
      "display_name": "Python 3"
    },
    "language_info": {
      "name": "python"
    },
    "accelerator": "GPU"
  },
  "cells": [
    {
      "cell_type": "code",
      "source": [
        "!wget http://cs231n.stanford.edu/tiny-imagenet-200.zip\n",
        "!unzip -q tiny-imagenet-200.zip"
      ],
      "metadata": {
        "colab": {
          "base_uri": "https://localhost:8080/"
        },
        "id": "QyoFSQ0c1Cdk",
        "outputId": "f9408d10-4552-453a-dcf9-cb1a0204e3ea"
      },
      "execution_count": 1,
      "outputs": [
        {
          "output_type": "stream",
          "name": "stdout",
          "text": [
            "--2025-01-28 14:33:22--  http://cs231n.stanford.edu/tiny-imagenet-200.zip\n",
            "Resolving cs231n.stanford.edu (cs231n.stanford.edu)... 171.64.64.64\n",
            "Connecting to cs231n.stanford.edu (cs231n.stanford.edu)|171.64.64.64|:80... connected.\n",
            "HTTP request sent, awaiting response... 301 Moved Permanently\n",
            "Location: https://cs231n.stanford.edu/tiny-imagenet-200.zip [following]\n",
            "--2025-01-28 14:33:22--  https://cs231n.stanford.edu/tiny-imagenet-200.zip\n",
            "Connecting to cs231n.stanford.edu (cs231n.stanford.edu)|171.64.64.64|:443... connected.\n",
            "HTTP request sent, awaiting response... 200 OK\n",
            "Length: 248100043 (237M) [application/zip]\n",
            "Saving to: ‘tiny-imagenet-200.zip’\n",
            "\n",
            "tiny-imagenet-200.z 100%[===================>] 236.61M  49.9MB/s    in 5.0s    \n",
            "\n",
            "2025-01-28 14:33:27 (46.9 MB/s) - ‘tiny-imagenet-200.zip’ saved [248100043/248100043]\n",
            "\n"
          ]
        }
      ]
    },
    {
      "cell_type": "code",
      "source": [
        "import torch\n",
        "import torchvision.transforms as transforms\n",
        "from torch.utils.data import Dataset\n",
        "import os, glob\n",
        "from torchvision.io import read_image, ImageReadMode\n",
        "from PIL import Image\n",
        "\n",
        "batch_size = 64\n",
        "\n",
        "id_dict = {}\n",
        "for i, line in enumerate(open('/content/tiny-imagenet-200/wnids.txt', 'r')):\n",
        "  id_dict[line.replace('\\n', '')] = i\n",
        "\n",
        "class TrainTinyImageNetDataset(Dataset):\n",
        "    def __init__(self, id, transform=None):\n",
        "        self.filenames = glob.glob(\"/content/tiny-imagenet-200/train/*/*/*.JPEG\")\n",
        "        self.transform = transform\n",
        "        self.id_dict = id\n",
        "\n",
        "    def __len__(self):\n",
        "        return len(self.filenames)\n",
        "\n",
        "    def __getitem__(self, idx):\n",
        "        img_path = self.filenames[idx]\n",
        "        image = read_image(img_path)\n",
        "        if image.shape[0] == 1:\n",
        "          image = read_image(img_path,ImageReadMode.RGB)\n",
        "        label = self.id_dict[img_path.split('/')[4]]\n",
        "        if self.transform:\n",
        "            image = self.transform(image.type(torch.FloatTensor))\n",
        "        return image, label\n",
        "\n",
        "class TestTinyImageNetDataset(Dataset):\n",
        "    def __init__(self, id, transform=None):\n",
        "        self.filenames = glob.glob(\"/content/tiny-imagenet-200/val/images/*.JPEG\")\n",
        "        self.transform = transform\n",
        "        self.id_dict = id\n",
        "        self.cls_dic = {}\n",
        "        for i, line in enumerate(open('/content/tiny-imagenet-200/val/val_annotations.txt', 'r')):\n",
        "            a = line.split('\\t')\n",
        "            img, cls_id = a[0],a[1]\n",
        "            self.cls_dic[img] = self.id_dict[cls_id]\n",
        "\n",
        "\n",
        "    def __len__(self):\n",
        "        return len(self.filenames)\n",
        "\n",
        "    def __getitem__(self, idx):\n",
        "        img_path = self.filenames[idx]\n",
        "        image = read_image(img_path)\n",
        "        if image.shape[0] == 1:\n",
        "          image = read_image(img_path,ImageReadMode.RGB)\n",
        "        label = self.cls_dic[img_path.split('/')[-1]]\n",
        "        if self.transform:\n",
        "            image = self.transform(image.type(torch.FloatTensor))\n",
        "        return image, label\n",
        "\n",
        "class RealTestTinyImageNetDataset(Dataset):\n",
        "    def __init__(self, id, transform=None):\n",
        "        self.filenames = glob.glob(\"/content/tiny-imagenet-200/test/images/*.JPEG\")  # Ubah path ke folder test\n",
        "        self.transform = transform\n",
        "        self.id_dict = id\n",
        "\n",
        "    def __len__(self):\n",
        "        return len(self.filenames)\n",
        "\n",
        "    def __getitem__(self, idx):\n",
        "        img_path = self.filenames[idx]\n",
        "        image = read_image(img_path)\n",
        "        if image.shape[0] == 1:\n",
        "            image = read_image(img_path, ImageReadMode.RGB)\n",
        "        # Karena tidak ada label di folder test, kita bisa mengembalikan -1 atau None\n",
        "        label = -1  # Atau None jika tidak ada label\n",
        "        if self.transform:\n",
        "            image = self.transform(image.type(torch.FloatTensor))\n",
        "        return image, label\n",
        "\n",
        "# Hapus transformasi normalisasi dan ganti dengan transformasi resize\n",
        "transform = transforms.Compose([\n",
        "    transforms.Resize((224, 224)),\n",
        "])\n",
        "\n",
        "# Fungsi untuk resize dan timpa gambar\n",
        "def resize_and_overwrite_images(dataset):\n",
        "    for img_path in dataset.filenames:\n",
        "        image = Image.open(img_path)\n",
        "        image = transform(image)\n",
        "        image.save(img_path)\n",
        "\n",
        "# Resize dan timpa gambar pada dataset train\n",
        "trainset = TrainTinyImageNetDataset(id=id_dict)\n",
        "resize_and_overwrite_images(trainset)\n",
        "\n",
        "# Resize dan timpa gambar pada dataset test\n",
        "testset = TestTinyImageNetDataset(id=id_dict)\n",
        "resize_and_overwrite_images(testset)\n",
        "\n",
        "# Setelah resize, Anda dapat membuat dataset baru dengan transformasi yang diinginkan\n",
        "trainset = TrainTinyImageNetDataset(id=id_dict, transform=transforms.ToTensor())\n",
        "testset = TestTinyImageNetDataset(id=id_dict, transform=transforms.ToTensor())"
      ],
      "metadata": {
        "id": "S7Ydhk8JMCzW"
      },
      "execution_count": 2,
      "outputs": []
    },
    {
      "cell_type": "code",
      "source": [
        "\n",
        "class RealTestTinyImageNetDataset(Dataset):\n",
        "    def __init__(self, id, transform=None):\n",
        "        self.filenames = glob.glob(\"/content/tiny-imagenet-200/test/images/*.JPEG\")  # Ubah path ke folder test\n",
        "        self.transform = transform\n",
        "        self.id_dict = id\n",
        "\n",
        "    def __len__(self):\n",
        "        return len(self.filenames)\n",
        "\n",
        "    def __getitem__(self, idx):\n",
        "        img_path = self.filenames[idx]\n",
        "        image = read_image(img_path)\n",
        "        if image.shape[0] == 1:\n",
        "            image = read_image(img_path, ImageReadMode.RGB)\n",
        "        # Karena tidak ada label di folder test, kita bisa mengembalikan -1 atau None\n",
        "        label = -1  # Atau None jika tidak ada label\n",
        "        if self.transform:\n",
        "            image = self.transform(image.type(torch.FloatTensor))\n",
        "        return image, label\n",
        "\n",
        "# Resize dan timpa gambar pada dataset test\n",
        "realtestset = RealTestTinyImageNetDataset(id=id_dict)\n",
        "resize_and_overwrite_images(realtestset)\n"
      ],
      "metadata": {
        "id": "60_aHQswYVVF"
      },
      "execution_count": 4,
      "outputs": []
    },
    {
      "cell_type": "code",
      "source": [
        "import shutil\n",
        "\n",
        "# Path folder yang akan di-zip\n",
        "folder_to_zip = '/content/tiny-imagenet-200'\n",
        "\n",
        "# Nama file zip yang akan dibuat\n",
        "zip_filename = '/content/jawaterbaru.zip'\n",
        "\n",
        "# Membuat file zip\n",
        "shutil.make_archive(zip_filename.replace('.zip', ''), 'zip', folder_to_zip)\n",
        "\n",
        "print(f\"Folder {folder_to_zip} telah di-zip dan disimpan sebagai {zip_filename}\")"
      ],
      "metadata": {
        "colab": {
          "base_uri": "https://localhost:8080/"
        },
        "id": "05Vb52-aWrQO",
        "outputId": "b8239bea-eb6a-4561-8e62-7f399bfa60e0"
      },
      "execution_count": 5,
      "outputs": [
        {
          "output_type": "stream",
          "name": "stdout",
          "text": [
            "Folder /content/tiny-imagenet-200 telah di-zip dan disimpan sebagai /content/jawaterbaru.zip\n"
          ]
        }
      ]
    }
  ]
}